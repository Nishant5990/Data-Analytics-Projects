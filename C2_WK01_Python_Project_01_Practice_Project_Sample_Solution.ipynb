{
 "cells": [
  {
   "cell_type": "markdown",
   "id": "4ZryyjNJBapS",
   "metadata": {
    "id": "4ZryyjNJBapS"
   },
   "source": [
    "![GL new logo .svg](data:image/svg+xml;base64,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)\n",
    "\n",
    "Proprietary content. © Great Learning. All Rights Reserved. Unauthorized use or distribution prohibited."
   ]
  },
  {
   "cell_type": "markdown",
   "id": "4018847a",
   "metadata": {
    "id": "4018847a"
   },
   "source": [
    "# Course 2 - Week 01 - Python Project 01 - Practice Project - <font color='blue'>Sample solution</font> "
   ]
  },
  {
   "cell_type": "markdown",
   "id": "ddd12b7b",
   "metadata": {
    "id": "ddd12b7b"
   },
   "source": [
    "------------------------------------------------------------------------------------------------------------------------------"
   ]
  },
  {
   "cell_type": "markdown",
   "id": "179e03d2",
   "metadata": {
    "id": "179e03d2"
   },
   "source": [
    "### Learning Objective:\n",
    "- Variables and datatypes.\n",
    "- Data Structures, Operators.\n",
    "- Conditional statements & control flow\n"
   ]
  },
  {
   "cell_type": "markdown",
   "id": "c4defbf6",
   "metadata": {
    "id": "c4defbf6"
   },
   "source": [
    "-------------------------------------------------------------------------------------------------------------------------------"
   ]
  },
  {
   "cell_type": "markdown",
   "id": "5353877c",
   "metadata": {
    "id": "5353877c"
   },
   "source": [
    "### 1. Write the alphabets 'A', 'B', 'C' on new lines using a single print function."
   ]
  },
  {
   "cell_type": "code",
   "execution_count": 1,
   "id": "207a61ca",
   "metadata": {
    "id": "207a61ca",
    "outputId": "250abdf8-5a22-4f98-dfc7-3c14adac20e7"
   },
   "outputs": [
    {
     "name": "stdout",
     "output_type": "stream",
     "text": [
      "A\n",
      "B\n",
      "C\n",
      "\n"
     ]
    }
   ],
   "source": [
    "print(\"A\\nB\\nC\\n\")"
   ]
  },
  {
   "cell_type": "markdown",
   "id": "b2d46ee1",
   "metadata": {
    "id": "b2d46ee1"
   },
   "source": [
    "### 2. Create a string, a numeric and boolean variables by assigning variable names. Further, check their datatype. For numeric variable check for whole numbers and numbers with decimal point."
   ]
  },
  {
   "cell_type": "code",
   "execution_count": 2,
   "id": "15a7c4a3",
   "metadata": {
    "id": "15a7c4a3",
    "outputId": "ba55e7ed-9606-4752-956b-76ca6180ff0a"
   },
   "outputs": [
    {
     "data": {
      "text/plain": [
       "str"
      ]
     },
     "execution_count": 2,
     "metadata": {},
     "output_type": "execute_result"
    }
   ],
   "source": [
    "# Declare a string variable and check its data type.\n",
    "my_string = 'GLCA_Data_Analytics'\n",
    "type(my_string)"
   ]
  },
  {
   "cell_type": "code",
   "execution_count": 3,
   "id": "00eff217",
   "metadata": {
    "id": "00eff217",
    "outputId": "b5046cee-3718-47d3-bc56-31dc1a08a43e"
   },
   "outputs": [
    {
     "name": "stdout",
     "output_type": "stream",
     "text": [
      "<class 'int'>\n",
      "<class 'float'>\n"
     ]
    }
   ],
   "source": [
    "# Declare a numeric variable and check its data type.\n",
    "\n",
    "# i) Whole number\n",
    "my_num1 = 600\n",
    "print(type(my_num1))\n",
    "\n",
    "# ii) Fraction \n",
    "my_num2 = 26.66\n",
    "print(type(my_num2))"
   ]
  },
  {
   "cell_type": "code",
   "execution_count": 4,
   "id": "e53a0de8",
   "metadata": {
    "id": "e53a0de8",
    "outputId": "b77fc2e7-0279-4d30-f744-8bf6e299912e"
   },
   "outputs": [
    {
     "data": {
      "text/plain": [
       "bool"
      ]
     },
     "execution_count": 4,
     "metadata": {},
     "output_type": "execute_result"
    }
   ],
   "source": [
    "# Declare a numeric variable and check its data type.\n",
    "my_bool = True\n",
    "type(my_bool)"
   ]
  },
  {
   "cell_type": "markdown",
   "id": "ae545e18",
   "metadata": {
    "id": "ae545e18"
   },
   "source": [
    "### 3. Create a complex number and assign it the name 'comp_var' and check its datatype."
   ]
  },
  {
   "cell_type": "code",
   "execution_count": 5,
   "id": "b43926f2",
   "metadata": {
    "id": "b43926f2",
    "outputId": "83818875-4423-4a54-fdac-4d5e0e62b460"
   },
   "outputs": [
    {
     "data": {
      "text/plain": [
       "complex"
      ]
     },
     "execution_count": 5,
     "metadata": {},
     "output_type": "execute_result"
    }
   ],
   "source": [
    "comp_var = 10+5j\n",
    "type(comp_var)"
   ]
  },
  {
   "cell_type": "markdown",
   "id": "7493bd91",
   "metadata": {
    "id": "7493bd91"
   },
   "source": [
    "### 4. Convert a float variable f = 88.63 to integer."
   ]
  },
  {
   "cell_type": "code",
   "execution_count": 6,
   "id": "7d837ef4",
   "metadata": {
    "id": "7d837ef4",
    "outputId": "dfefe3da-8bf3-4458-a26e-fd455ceef59a"
   },
   "outputs": [
    {
     "data": {
      "text/plain": [
       "88"
      ]
     },
     "execution_count": 6,
     "metadata": {},
     "output_type": "execute_result"
    }
   ],
   "source": [
    "f=88.63\n",
    "int(f)"
   ]
  },
  {
   "cell_type": "markdown",
   "id": "85773ceb",
   "metadata": {
    "id": "85773ceb"
   },
   "source": [
    "### 5. Create a numeric variable and convert it to a string."
   ]
  },
  {
   "cell_type": "code",
   "execution_count": 7,
   "id": "fcd3b0c1",
   "metadata": {
    "id": "fcd3b0c1",
    "outputId": "05a8d5dd-cf82-4f5c-c512-d41a31047fd0"
   },
   "outputs": [
    {
     "data": {
      "text/plain": [
       "'300'"
      ]
     },
     "execution_count": 7,
     "metadata": {},
     "output_type": "execute_result"
    }
   ],
   "source": [
    "var=300\n",
    "str(var)"
   ]
  },
  {
   "cell_type": "markdown",
   "id": "bd9aab69",
   "metadata": {
    "id": "bd9aab69"
   },
   "source": [
    "### 6. Create two strings and concatenate them using '+' operator."
   ]
  },
  {
   "cell_type": "code",
   "execution_count": 8,
   "id": "a96c991a",
   "metadata": {
    "id": "a96c991a",
    "outputId": "1f6a4ee4-308e-43e2-f8dd-ca95169254ec"
   },
   "outputs": [
    {
     "data": {
      "text/plain": [
       "'greatlearning'"
      ]
     },
     "execution_count": 8,
     "metadata": {},
     "output_type": "execute_result"
    }
   ],
   "source": [
    "my_string1= \"great\"\n",
    "my_string2= \"learning\"\n",
    "my_string1+my_string2"
   ]
  },
  {
   "cell_type": "markdown",
   "id": "5545b93d",
   "metadata": {
    "id": "5545b93d"
   },
   "source": [
    "### 7. Create a string with the name 'Bengaluru' and 'Great Learning' as its element. Perform the following on it:\n",
    "- Find its length.\n",
    "- Extract it first two letters."
   ]
  },
  {
   "cell_type": "code",
   "execution_count": 9,
   "id": "79019074",
   "metadata": {
    "id": "79019074",
    "outputId": "ce04ea7a-582b-4c3a-af85-658f6ca44456"
   },
   "outputs": [
    {
     "name": "stdout",
     "output_type": "stream",
     "text": [
      "14\n",
      "Gr\n"
     ]
    }
   ],
   "source": [
    "Bengaluru = 'Great Learning'\n",
    "print(len(Bengaluru))\n",
    "print(Bengaluru[0:2])"
   ]
  },
  {
   "cell_type": "markdown",
   "id": "b1722f8a",
   "metadata": {
    "id": "b1722f8a"
   },
   "source": [
    "### 8. Given the string 'Today is a rainy day.'\n",
    "- Write a code to get 'is' and 'day'.\n",
    "- Obtain the last two letters.\n",
    "- Write the statement backwards."
   ]
  },
  {
   "cell_type": "code",
   "execution_count": 10,
   "id": "394bff2e",
   "metadata": {},
   "outputs": [
    {
     "name": "stdout",
     "output_type": "stream",
     "text": [
      "is day\n",
      "ay\n",
      "yad yniar a si yadoT\n"
     ]
    }
   ],
   "source": [
    "my_strng='Today is a rainy day'\n",
    "print(my_strng[6:8], my_strng[17:])\n",
    "print(my_strng[18:])\n",
    "print(my_strng[::-1])"
   ]
  },
  {
   "cell_type": "markdown",
   "id": "060f7dd9",
   "metadata": {
    "id": "060f7dd9"
   },
   "source": [
    "### 9. Write a program to perform following list operations on the list given below:\n",
    "\n",
    "- a. Check the length of mix_list_1\n",
    "- b. Check the membership of 'Data' in mix_list_1\n",
    "- c. Concatenate the mix_list_1 and mix_list_2\n",
    "- d. Repeat the mix_list_2 two times"
   ]
  },
  {
   "cell_type": "markdown",
   "id": "63b36c9e",
   "metadata": {
    "id": "63b36c9e"
   },
   "source": [
    "**Lists to perform operations:**\n",
    "\n",
    "mix_list_1 = ['Data', 'Analysis', 100, 'Python', True, 9098]\n",
    "\n",
    "mix_list_2 = ['List operations', 101, 789]"
   ]
  },
  {
   "cell_type": "code",
   "execution_count": 11,
   "id": "d20055eb",
   "metadata": {
    "id": "d20055eb"
   },
   "outputs": [],
   "source": [
    "# Create the lists\n",
    "mix_list_1 = ['Data', 'Analysis', 100, 'Python', True, 9098]\n",
    "mix_list_2 = ['List operations', 101, 789]"
   ]
  },
  {
   "cell_type": "code",
   "execution_count": 12,
   "id": "7f92094d",
   "metadata": {
    "id": "7f92094d",
    "outputId": "57937725-79a7-4b33-8780-01f2141cf27b"
   },
   "outputs": [
    {
     "data": {
      "text/plain": [
       "6"
      ]
     },
     "execution_count": 12,
     "metadata": {},
     "output_type": "execute_result"
    }
   ],
   "source": [
    "# a) Check the length of mix_list_1\n",
    "len(mix_list_1)"
   ]
  },
  {
   "cell_type": "code",
   "execution_count": 13,
   "id": "e2870f10",
   "metadata": {
    "id": "e2870f10",
    "outputId": "e6022443-5d63-4ea8-dcd9-e4e1e18a19e2"
   },
   "outputs": [
    {
     "data": {
      "text/plain": [
       "True"
      ]
     },
     "execution_count": 13,
     "metadata": {},
     "output_type": "execute_result"
    }
   ],
   "source": [
    "# b) Check the membership of 'Data' in mix_list_1\n",
    "'Data' in mix_list_1"
   ]
  },
  {
   "cell_type": "code",
   "execution_count": 14,
   "id": "43c97dc2",
   "metadata": {
    "id": "43c97dc2",
    "outputId": "e4c1065a-d46a-4083-acb5-1b22f98f3541"
   },
   "outputs": [
    {
     "name": "stdout",
     "output_type": "stream",
     "text": [
      "concatenated list: ['Data', 'Analysis', 100, 'Python', True, 9098, 'List operations', 101, 789]\n"
     ]
    }
   ],
   "source": [
    "# c) Concatenate the mix_list_1 and mix_list_2\n",
    "print('concatenated list:',mix_list_1 + mix_list_2)"
   ]
  },
  {
   "cell_type": "code",
   "execution_count": 15,
   "id": "ed6cdeaa",
   "metadata": {
    "id": "ed6cdeaa",
    "outputId": "f5b6dbb5-66af-4830-8668-4d56b1b3b8dd"
   },
   "outputs": [
    {
     "data": {
      "text/plain": [
       "['List operations', 101, 789, 'List operations', 101, 789]"
      ]
     },
     "execution_count": 15,
     "metadata": {},
     "output_type": "execute_result"
    }
   ],
   "source": [
    "# d) Repeat the mix_list_2 two times\n",
    "mix_list_2*2"
   ]
  },
  {
   "cell_type": "markdown",
   "id": "745612e9",
   "metadata": {
    "id": "745612e9"
   },
   "source": [
    "### 10. Write the program to multiply the two lists. (Hint: make use of zip function)"
   ]
  },
  {
   "cell_type": "markdown",
   "id": "2a467ed8",
   "metadata": {
    "id": "2a467ed8"
   },
   "source": [
    "**Lists to perform multiplication:**\n",
    "\n",
    "num_list_1 = [10, 20, 30, 40]\n",
    "\n",
    "num_list_2 = [2, 2, 2, 2]"
   ]
  },
  {
   "cell_type": "code",
   "execution_count": 16,
   "id": "7bd5221b",
   "metadata": {},
   "outputs": [
    {
     "name": "stdout",
     "output_type": "stream",
     "text": [
      "[20, 40, 60, 80]\n"
     ]
    }
   ],
   "source": [
    "## Create the lists\n",
    "num_list_1 = [10, 20, 30, 40]\n",
    "num_list_2 = [2, 2, 2, 2]\n",
    "\n",
    "## Multiplication of two list using zip function\n",
    "output_list = []\n",
    "\n",
    "for n, m in zip(num_list_1, num_list_2):\n",
    "    output_list.append(n * m)\n",
    "    \n",
    "print(output_list)"
   ]
  },
  {
   "cell_type": "markdown",
   "id": "9b0e9c16",
   "metadata": {
    "id": "9b0e9c16"
   },
   "source": [
    "### 11. Write a program to perform following built-in list operations:\n",
    "\n",
    "- a. Minimum element of the list\n",
    "- b. Maximum element of the list\n",
    "- c. Sort the elements (use sort() and sorted() function)\n",
    "- d. Create a copy of a list\n",
    "- e. Remove element '-79' from the list"
   ]
  },
  {
   "cell_type": "markdown",
   "id": "fa19a2c9",
   "metadata": {
    "id": "fa19a2c9"
   },
   "source": [
    "**Use the below list**\n",
    "\n",
    "num_list = [90, 83, -79, 10, 0, 12]"
   ]
  },
  {
   "cell_type": "code",
   "execution_count": 17,
   "id": "caf406a5",
   "metadata": {
    "id": "caf406a5"
   },
   "outputs": [],
   "source": [
    "# Create the list\n",
    "num_list = [90, 83, -79, 10, 0, 12]"
   ]
  },
  {
   "cell_type": "code",
   "execution_count": 18,
   "id": "acd85f60",
   "metadata": {
    "id": "acd85f60",
    "outputId": "393873fe-90f3-4759-c3e9-de8ae75c5f9d"
   },
   "outputs": [
    {
     "data": {
      "text/plain": [
       "-79"
      ]
     },
     "execution_count": 18,
     "metadata": {},
     "output_type": "execute_result"
    }
   ],
   "source": [
    "# a) minimum element of the list\n",
    "min(num_list)"
   ]
  },
  {
   "cell_type": "code",
   "execution_count": 19,
   "id": "dc2fffb3",
   "metadata": {
    "id": "dc2fffb3",
    "outputId": "6a464023-2d65-41a7-ae08-f2501c362929"
   },
   "outputs": [
    {
     "data": {
      "text/plain": [
       "90"
      ]
     },
     "execution_count": 19,
     "metadata": {},
     "output_type": "execute_result"
    }
   ],
   "source": [
    "# b) maximum element of the list\n",
    "max(num_list)"
   ]
  },
  {
   "cell_type": "code",
   "execution_count": 20,
   "id": "e08a2719",
   "metadata": {
    "id": "e08a2719",
    "outputId": "93d797e1-a630-4f42-f812-4163a4a4b9b8"
   },
   "outputs": [
    {
     "name": "stdout",
     "output_type": "stream",
     "text": [
      "[-79, 0, 10, 12, 83, 90]\n",
      "[-79, 0, 10, 12, 83, 90]\n"
     ]
    }
   ],
   "source": [
    "# c) Sort the elements (use sort() and sorted() function)\n",
    "\n",
    "num_list.sort()\n",
    "print(num_list)\n",
    "print(sorted(num_list))"
   ]
  },
  {
   "cell_type": "code",
   "execution_count": 21,
   "id": "1a287d78",
   "metadata": {
    "id": "1a287d78",
    "outputId": "39f03ea3-65b2-4a32-fc5a-d2a93d07bd77"
   },
   "outputs": [
    {
     "data": {
      "text/plain": [
       "[-79, 0, 10, 12, 83, 90]"
      ]
     },
     "execution_count": 21,
     "metadata": {},
     "output_type": "execute_result"
    }
   ],
   "source": [
    "# d) Create a copy of a list\n",
    "num_list_copy=num_list.copy()\n",
    "num_list_copy"
   ]
  },
  {
   "cell_type": "code",
   "execution_count": 22,
   "id": "a83e36d0",
   "metadata": {
    "id": "a83e36d0",
    "outputId": "d1accb7d-df60-4ffa-b2f2-f388e06ce576"
   },
   "outputs": [
    {
     "data": {
      "text/plain": [
       "[90, 83, 10, 0, 12]"
      ]
     },
     "execution_count": 22,
     "metadata": {},
     "output_type": "execute_result"
    }
   ],
   "source": [
    "# e) Remove element '-79' from the list\n",
    "num_list = [90, 83, -79, 10, 0, 12]\n",
    "num_list.remove(-79)\n",
    "num_list"
   ]
  },
  {
   "cell_type": "markdown",
   "id": "5331f801",
   "metadata": {
    "id": "5331f801"
   },
   "source": [
    "### 12. Manipulating a list:\n",
    "\n",
    "- a. Add a new element 'Boolean' at index location 0 in the given list\n",
    "- b. Replace an element 'sets' with 'string' in the given list\n",
    "- c. Add elements 'int' and 'complex' to the given list"
   ]
  },
  {
   "cell_type": "markdown",
   "id": "85c3c24f",
   "metadata": {
    "id": "85c3c24f"
   },
   "source": [
    "#### Use the below list\n",
    "\n",
    "datatypes_list = ['list', 'tuples', 'dictionary', 'sets']"
   ]
  },
  {
   "cell_type": "code",
   "execution_count": 23,
   "id": "f47eb30e",
   "metadata": {
    "id": "f47eb30e"
   },
   "outputs": [],
   "source": [
    "# create the list\n",
    "datatypes_list = ['list', 'tuples', 'dictionary', 'sets']"
   ]
  },
  {
   "cell_type": "code",
   "execution_count": 24,
   "id": "3f080046",
   "metadata": {
    "id": "3f080046",
    "outputId": "33e68893-b54a-4554-911b-b3a2d977f5a3"
   },
   "outputs": [
    {
     "data": {
      "text/plain": [
       "['Boolean', 'list', 'tuples', 'dictionary', 'sets']"
      ]
     },
     "execution_count": 24,
     "metadata": {},
     "output_type": "execute_result"
    }
   ],
   "source": [
    "# a) Add a new element 'Boolean' in the given list\n",
    "datatypes_list.insert(0,'Boolean')\n",
    "datatypes_list"
   ]
  },
  {
   "cell_type": "code",
   "execution_count": 25,
   "id": "4037540b",
   "metadata": {
    "id": "4037540b",
    "outputId": "4298f7f4-3f76-4747-8e25-d177f4027a20"
   },
   "outputs": [
    {
     "data": {
      "text/plain": [
       "['Boolean', 'list', 'tuples', 'dictionary', 'string']"
      ]
     },
     "execution_count": 25,
     "metadata": {},
     "output_type": "execute_result"
    }
   ],
   "source": [
    "# b) Replace an element 'sets' with 'string' in the given list\n",
    "datatypes_list[4] = 'string'\n",
    "datatypes_list"
   ]
  },
  {
   "cell_type": "code",
   "execution_count": 26,
   "id": "194e0042",
   "metadata": {},
   "outputs": [
    {
     "data": {
      "text/plain": [
       "['Boolean', 'list', 'tuples', 'dictionary', 'string', 'int', 'complex']"
      ]
     },
     "execution_count": 26,
     "metadata": {},
     "output_type": "execute_result"
    }
   ],
   "source": [
    "# c) Add elements 'int' and 'complex' to the given list\n",
    "new_elements = ['int','complex']\n",
    "datatypes_list.extend(new_elements)\n",
    "datatypes_list"
   ]
  },
  {
   "cell_type": "markdown",
   "id": "25a1e62a",
   "metadata": {
    "id": "25a1e62a"
   },
   "source": [
    "### 13. Write a code to perform operations on tuple:\n",
    "\n",
    "- a. Check the length of num_tuple\n",
    "- b. Concatenate the num_tuple and mix_tuple\n",
    "- c. Repeat the mix_tuple two times"
   ]
  },
  {
   "cell_type": "markdown",
   "id": "81e233da",
   "metadata": {
    "id": "81e233da"
   },
   "source": [
    "**Tuples to perform operations:**\n",
    "\n",
    "num_tuple = (23, 43, 56)\n",
    "\n",
    "mix_tuple = (-90, 'string', 979)"
   ]
  },
  {
   "cell_type": "code",
   "execution_count": 27,
   "id": "9422682c",
   "metadata": {
    "id": "9422682c"
   },
   "outputs": [],
   "source": [
    "# Create the tuples\n",
    "num_tuple = (23, 43, 56)\n",
    "mix_tuple = (-90, 'string', 979)"
   ]
  },
  {
   "cell_type": "code",
   "execution_count": 28,
   "id": "2be3e873",
   "metadata": {
    "id": "2be3e873",
    "outputId": "6e4ef781-5947-48b0-f7b3-cc28957316ce"
   },
   "outputs": [
    {
     "data": {
      "text/plain": [
       "3"
      ]
     },
     "execution_count": 28,
     "metadata": {},
     "output_type": "execute_result"
    }
   ],
   "source": [
    "## a) Check the length of num_tuple\n",
    "len(num_tuple)"
   ]
  },
  {
   "cell_type": "code",
   "execution_count": 29,
   "id": "c7205ebd",
   "metadata": {
    "id": "c7205ebd",
    "outputId": "b4e88334-9720-43a0-8fc5-12204c879682"
   },
   "outputs": [
    {
     "name": "stdout",
     "output_type": "stream",
     "text": [
      "(23, 43, 56, -90, 'string', 979)\n"
     ]
    }
   ],
   "source": [
    "## b) Concatenate the num_tuple and mix_tuple\n",
    "print(num_tuple+mix_tuple)"
   ]
  },
  {
   "cell_type": "code",
   "execution_count": 30,
   "id": "8a1b1371",
   "metadata": {
    "id": "8a1b1371",
    "outputId": "f12062a7-c06c-4a21-e6b5-1e7befaa215e"
   },
   "outputs": [
    {
     "data": {
      "text/plain": [
       "(-90, 'string', 979, -90, 'string', 979)"
      ]
     },
     "execution_count": 30,
     "metadata": {},
     "output_type": "execute_result"
    }
   ],
   "source": [
    "## c) Repeat the mix_tuple two times\n",
    "mix_tuple*2"
   ]
  },
  {
   "cell_type": "markdown",
   "id": "29ac7960",
   "metadata": {
    "id": "29ac7960"
   },
   "source": [
    "### 14. Replace the elements in the given tuple:\n",
    "\n",
    "- Replace 'sets' with 'strings'"
   ]
  },
  {
   "cell_type": "markdown",
   "id": "9b11570c",
   "metadata": {
    "id": "9b11570c"
   },
   "source": [
    "**Use the tuple below:**\n",
    "\n",
    "my_tuple = ('list', 'sets', 'dict', 'tuple')"
   ]
  },
  {
   "cell_type": "code",
   "execution_count": 31,
   "id": "001f77fd",
   "metadata": {
    "id": "001f77fd"
   },
   "outputs": [
    {
     "data": {
      "text/plain": [
       "('list', 'sets', 'dict', 'tuple')"
      ]
     },
     "execution_count": 31,
     "metadata": {},
     "output_type": "execute_result"
    }
   ],
   "source": [
    "# Create the tuple\n",
    "my_tuple = ('list', 'sets', 'dict', 'tuple')\n",
    "my_tuple"
   ]
  },
  {
   "cell_type": "code",
   "execution_count": 32,
   "id": "834fffa3",
   "metadata": {
    "id": "834fffa3",
    "outputId": "18b1c3f8-29d5-41d5-87e6-ed29e5cba6fa"
   },
   "outputs": [
    {
     "name": "stdout",
     "output_type": "stream",
     "text": [
      "we cannot replace a tuple\n"
     ]
    }
   ],
   "source": [
    "## a) Replace 'sets' with 'strings'\n",
    "print(\"we cannot replace a tuple\")"
   ]
  },
  {
   "cell_type": "markdown",
   "id": "0c4eafab",
   "metadata": {
    "id": "0c4eafab"
   },
   "source": [
    "### 15. Write the program to perform following manipulations:\n",
    "\n",
    "- a. Add '789' to the given set\n",
    "- b. Remove '10' from a given set\n",
    "- c. Clear the set"
   ]
  },
  {
   "cell_type": "markdown",
   "id": "d9adf01d",
   "metadata": {
    "id": "d9adf01d"
   },
   "source": [
    "**Use the below set for manipulation**\n",
    "\n",
    "my_set = {10, 67, 45, 89, 90}"
   ]
  },
  {
   "cell_type": "code",
   "execution_count": 33,
   "id": "725ba469",
   "metadata": {
    "id": "725ba469"
   },
   "outputs": [],
   "source": [
    "# Create the set\n",
    "my_set = {10, 67, 45, 89, 90}"
   ]
  },
  {
   "cell_type": "code",
   "execution_count": 34,
   "id": "99f53c38",
   "metadata": {
    "id": "99f53c38",
    "outputId": "53750907-a200-4415-97be-d39b130871f8"
   },
   "outputs": [
    {
     "name": "stdout",
     "output_type": "stream",
     "text": [
      "{67, 90, 789, 89, 10, 45}\n"
     ]
    }
   ],
   "source": [
    "## a)  Add '789' to the given set\n",
    "my_set.add(789)\n",
    "print(my_set)"
   ]
  },
  {
   "cell_type": "code",
   "execution_count": 35,
   "id": "580a5d7a",
   "metadata": {
    "id": "580a5d7a",
    "outputId": "2a79c83c-fc44-405e-d592-952f1051da34"
   },
   "outputs": [
    {
     "data": {
      "text/plain": [
       "{45, 67, 89, 90, 789}"
      ]
     },
     "execution_count": 35,
     "metadata": {},
     "output_type": "execute_result"
    }
   ],
   "source": [
    "## b) Remove '10' from a given set\n",
    "my_set.remove(10)\n",
    "my_set"
   ]
  },
  {
   "cell_type": "code",
   "execution_count": 36,
   "id": "bbfb2ebb",
   "metadata": {
    "id": "bbfb2ebb",
    "outputId": "04a9d41a-408c-4e8b-9912-d598b31f3f8a"
   },
   "outputs": [
    {
     "data": {
      "text/plain": [
       "set()"
      ]
     },
     "execution_count": 36,
     "metadata": {},
     "output_type": "execute_result"
    }
   ],
   "source": [
    "## c) Clear the set\n",
    "my_set.clear()\n",
    "my_set"
   ]
  },
  {
   "cell_type": "markdown",
   "id": "097560dd",
   "metadata": {
    "id": "097560dd"
   },
   "source": [
    "### 16. Create two sets of words from the given sentences and perform the following operations:\n",
    "\n",
    "- a. Find the count of unique words in each of the sentence\n",
    "- b. Find the common words in both the sentences"
   ]
  },
  {
   "cell_type": "markdown",
   "id": "b2322303",
   "metadata": {
    "id": "b2322303"
   },
   "source": [
    "**Use the sentences given below:**\n",
    "    \n",
    "sentence_1 = 'Let us perform some set operations' \n",
    "\n",
    "sentence_2 = 'set is one of the inbuilt datatype in python'"
   ]
  },
  {
   "cell_type": "code",
   "execution_count": 37,
   "id": "f11135a1",
   "metadata": {
    "id": "f11135a1",
    "outputId": "53ce3e34-9cde-41f7-fb97-d951c5ded916"
   },
   "outputs": [
    {
     "name": "stdout",
     "output_type": "stream",
     "text": [
      "{'Let', 'perform', 'us', 'set', 'some', 'operations'}\n",
      "{'of', 'one', 'set', 'the', 'is', 'inbuilt', 'python', 'in', 'datatype'}\n"
     ]
    }
   ],
   "source": [
    "# Create the sets using the sentences\n",
    "\n",
    "sentence_1 = 'Let us perform some set operations' \n",
    "sentence_2 = 'set is one of the inbuilt datatype in python'\n",
    "\n",
    "a=set(sentence_1.split())\n",
    "b=set(sentence_2.split())\n",
    "\n",
    "print(a)\n",
    "print(b)"
   ]
  },
  {
   "cell_type": "code",
   "execution_count": 38,
   "id": "688faa02",
   "metadata": {
    "id": "688faa02",
    "outputId": "e97883e4-65b7-4d2b-867a-84da830cf80d"
   },
   "outputs": [
    {
     "name": "stdout",
     "output_type": "stream",
     "text": [
      "the len of unique words in sen 1 is 6\n",
      "the len of unique words in sen 2 is 9\n"
     ]
    }
   ],
   "source": [
    "## a) Find the count of unique words in each of the sentence\n",
    "\n",
    "print(\"the len of unique words in sen 1 is\",len(a))\n",
    "print(\"the len of unique words in sen 2 is\", len(b))"
   ]
  },
  {
   "cell_type": "code",
   "execution_count": 39,
   "id": "8cba806f",
   "metadata": {
    "id": "8cba806f",
    "outputId": "40cc79a1-1bdf-4ade-f4d0-4769d15bfe17"
   },
   "outputs": [
    {
     "data": {
      "text/plain": [
       "{'set'}"
      ]
     },
     "execution_count": 39,
     "metadata": {},
     "output_type": "execute_result"
    }
   ],
   "source": [
    "## b) Find the common words in both the sentences\n",
    "a.intersection(b)"
   ]
  },
  {
   "cell_type": "markdown",
   "id": "48b495c8",
   "metadata": {
    "id": "48b495c8"
   },
   "source": [
    "### 17. Write a program to perform following set operations:\n",
    "\n",
    "- a. Union\n",
    "- b. Intersection\n",
    "- c. Set of all the elements of set A that are not in set B\n",
    "- d. Set of all the elements of set B that are not in set A"
   ]
  },
  {
   "cell_type": "markdown",
   "id": "9b4fedb9",
   "metadata": {
    "id": "9b4fedb9"
   },
   "source": [
    "**Use the below set:**\n",
    "\n",
    "A = {27, 19, 82, 76, 89, 34, 66, 89}\n",
    "\n",
    "B = {12, 70, 66, 76, 22}"
   ]
  },
  {
   "cell_type": "code",
   "execution_count": 40,
   "id": "a97f672f",
   "metadata": {
    "id": "a97f672f"
   },
   "outputs": [],
   "source": [
    "# Create the sets\n",
    "\n",
    "A = {27, 19, 82, 76, 89, 34, 66, 89}\n",
    "B = {12, 70, 66, 76, 22}"
   ]
  },
  {
   "cell_type": "code",
   "execution_count": 41,
   "id": "bb2fc5c0",
   "metadata": {
    "id": "bb2fc5c0",
    "outputId": "2c250c49-798d-47a4-b61f-a678e8ef4992"
   },
   "outputs": [
    {
     "name": "stdout",
     "output_type": "stream",
     "text": [
      "{34, 66, 70, 76, 12, 82, 19, 22, 89, 27}\n"
     ]
    }
   ],
   "source": [
    "## a) Union\n",
    "print(A.union(B))"
   ]
  },
  {
   "cell_type": "code",
   "execution_count": 42,
   "id": "34bd6daa",
   "metadata": {
    "id": "34bd6daa",
    "outputId": "14186be9-131c-4a96-e11a-f9bfef813674"
   },
   "outputs": [
    {
     "name": "stdout",
     "output_type": "stream",
     "text": [
      "{66, 76}\n"
     ]
    }
   ],
   "source": [
    "## b) Intersection\n",
    "print(A.intersection(B))"
   ]
  },
  {
   "cell_type": "code",
   "execution_count": 43,
   "id": "4159e670",
   "metadata": {
    "id": "4159e670",
    "outputId": "8eef369d-26fd-48fe-f653-4b06eec17f40"
   },
   "outputs": [
    {
     "data": {
      "text/plain": [
       "{19, 27, 34, 82, 89}"
      ]
     },
     "execution_count": 43,
     "metadata": {},
     "output_type": "execute_result"
    }
   ],
   "source": [
    "## c)  Set of all the elements of set A that are not in set B\n",
    "A.difference(B)"
   ]
  },
  {
   "cell_type": "code",
   "execution_count": 44,
   "id": "732a336a",
   "metadata": {
    "id": "732a336a",
    "outputId": "cfd0b564-17fe-487e-e4a4-8f045d17a2de"
   },
   "outputs": [
    {
     "data": {
      "text/plain": [
       "{12, 22, 70}"
      ]
     },
     "execution_count": 44,
     "metadata": {},
     "output_type": "execute_result"
    }
   ],
   "source": [
    "## d) Set of all the elements of set B that are not in set A\n",
    "B.difference(A)"
   ]
  },
  {
   "cell_type": "markdown",
   "id": "0a0018d0",
   "metadata": {
    "id": "0a0018d0"
   },
   "source": [
    "### 18. Write a code to add a key to a dictionary\n"
   ]
  },
  {
   "cell_type": "markdown",
   "id": "b942a38d",
   "metadata": {
    "id": "b942a38d"
   },
   "source": [
    "**Use the given dictionary and add a key (20:4)**\n",
    "\n",
    "my_dict = {100:10, 200:20, 300:30}"
   ]
  },
  {
   "cell_type": "code",
   "execution_count": 45,
   "id": "088bad14",
   "metadata": {
    "id": "088bad14",
    "outputId": "52573274-1c6e-4fe6-fe1c-7b4d51706ca6"
   },
   "outputs": [
    {
     "name": "stdout",
     "output_type": "stream",
     "text": [
      "{100: 10, 200: 20, 300: 30, 20: 4}\n"
     ]
    }
   ],
   "source": [
    "# Create dictionary\n",
    "my_dict = {100:10, 200:20, 300:30}\n",
    "\n",
    "# Add a key\n",
    "my_dict[20] = 4\n",
    "print(my_dict)"
   ]
  },
  {
   "cell_type": "markdown",
   "id": "1dda0e3b",
   "metadata": {
    "id": "1dda0e3b"
   },
   "source": [
    "### 19. Write a program to retrieve the keys/values of dictionary"
   ]
  },
  {
   "cell_type": "markdown",
   "id": "0550d6cf",
   "metadata": {
    "id": "0550d6cf"
   },
   "source": [
    "**Use the dictionary**\n",
    "\n",
    "mix_dictionary = {'Fruits':''Apple','Quanitity':12, 'Veggies':'Broccoli','Price':20 }"
   ]
  },
  {
   "cell_type": "code",
   "execution_count": 46,
   "id": "b48aadb9",
   "metadata": {
    "id": "b48aadb9",
    "outputId": "a2925742-d315-4b75-b6b2-a92b21896c36"
   },
   "outputs": [
    {
     "name": "stdout",
     "output_type": "stream",
     "text": [
      "dict_keys(['Fruits', 'Quanitity', 'Veggies', 'Price'])\n",
      "dict_values(['Apple', 12, 'Broccoli', 20])\n"
     ]
    }
   ],
   "source": [
    "# Create a dictionary\n",
    "mix_dictionary = {'Fruits':'Apple','Quanitity':12, 'Veggies':'Broccoli','Price':20 }\n",
    "\n",
    "# Perform the operation\n",
    "print(mix_dictionary.keys())\n",
    "print(mix_dictionary.values())"
   ]
  },
  {
   "cell_type": "markdown",
   "id": "9c86ace2",
   "metadata": {
    "id": "9c86ace2"
   },
   "source": [
    "### 20. Write a program to get the value for 'Age' from the dictionar"
   ]
  },
  {
   "cell_type": "markdown",
   "id": "c8a23757",
   "metadata": {
    "id": "c8a23757"
   },
   "source": [
    "**Use the dictionary**\n",
    "\n",
    "emp_record = {'Weight': 67, 'BMI': 25, 'Age': 27, 'Profession': 'CA'}"
   ]
  },
  {
   "cell_type": "code",
   "execution_count": 47,
   "id": "91d9085b",
   "metadata": {
    "id": "91d9085b",
    "outputId": "9dddc4cb-5dbe-4a91-a505-f84228d83a0b"
   },
   "outputs": [
    {
     "data": {
      "text/plain": [
       "27"
      ]
     },
     "execution_count": 47,
     "metadata": {},
     "output_type": "execute_result"
    }
   ],
   "source": [
    "# Create a dictionary\n",
    "emp_record = {'Weight': 67, 'BMI': 25, 'Age': 27, 'Profession': 'CA'}\n",
    "\n",
    "# Get the value of 'age'\n",
    "emp_record['Age']"
   ]
  },
  {
   "cell_type": "markdown",
   "id": "634b2c04",
   "metadata": {
    "id": "634b2c04"
   },
   "source": [
    "### 21. Write a program to create a dictionary using given keys and values. (Hint: make use of zip function)"
   ]
  },
  {
   "cell_type": "markdown",
   "id": "3e58cb53",
   "metadata": {
    "id": "3e58cb53"
   },
   "source": [
    "**Use the keys and values to create a dictionary**\n",
    "\n",
    "keys = ['Fruits', 'Quanitity', 'Veggies', 'Price']\n",
    "\n",
    "values = ['Apple', 12, 'Broccoli', 20]"
   ]
  },
  {
   "cell_type": "code",
   "execution_count": 48,
   "id": "0f01cc93",
   "metadata": {
    "id": "0f01cc93",
    "outputId": "e8049865-ed6e-419e-db9c-4f41c8f75ff5"
   },
   "outputs": [
    {
     "data": {
      "text/plain": [
       "{'Fruits': 'Apple', 'Quanitity': 12, 'Veggies': 'Broccoli', 'Price': 20}"
      ]
     },
     "execution_count": 48,
     "metadata": {},
     "output_type": "execute_result"
    }
   ],
   "source": [
    "# Create a list of keys and values\n",
    "keys = ['Fruits', 'Quanitity', 'Veggies', 'Price']\n",
    "values = ['Apple', 12, 'Broccoli', 20]\n",
    "\n",
    "# Perform the operation to create a dictionary using lists\n",
    "dict(zip(keys,values))"
   ]
  },
  {
   "cell_type": "markdown",
   "id": "a2f44ae5",
   "metadata": {
    "id": "a2f44ae5"
   },
   "source": [
    "### 22. Set the city of an customer as 'Bangalore' in the given customer record"
   ]
  },
  {
   "cell_type": "markdown",
   "id": "f8615693",
   "metadata": {
    "id": "f8615693"
   },
   "source": [
    "**Use the dictionary**\n",
    "\n",
    "cust_record = {'Cust_ID': 'C001', 'Phno': 9880790675, 'Age': 22, 'Profession': 'Data analyst'}"
   ]
  },
  {
   "cell_type": "code",
   "execution_count": 49,
   "id": "7d0418e5",
   "metadata": {
    "id": "7d0418e5"
   },
   "outputs": [],
   "source": [
    "# Create a Dictionary\n",
    "cust_record = {'Cust_ID': 'C001', 'Phno': 9880790675, 'Age': 22, 'Profession': 'Data analyst'}\n",
    "\n",
    "# Perform the operation\n",
    "cust_record['city']='Bangalore'"
   ]
  },
  {
   "cell_type": "code",
   "execution_count": 50,
   "id": "e1708474",
   "metadata": {
    "id": "e1708474",
    "outputId": "7d84b6f6-7da3-4d58-c3e1-f39ca9b22f87"
   },
   "outputs": [
    {
     "name": "stdout",
     "output_type": "stream",
     "text": [
      "{'Cust_ID': 'C001', 'Phno': 9880790675, 'Age': 22, 'Profession': 'Data analyst', 'city': 'Bangalore'}\n"
     ]
    }
   ],
   "source": [
    "# View the results\n",
    "print(cust_record)"
   ]
  },
  {
   "cell_type": "markdown",
   "id": "6ee4a581",
   "metadata": {
    "id": "6ee4a581"
   },
   "source": [
    "### 23. Write a program to check whether a given number is multiple of 7 (use if statement)"
   ]
  },
  {
   "cell_type": "code",
   "execution_count": 51,
   "id": "7388a678",
   "metadata": {
    "id": "7388a678",
    "outputId": "07de1521-65b6-420c-9c9d-6e74e4a1a431"
   },
   "outputs": [
    {
     "name": "stdout",
     "output_type": "stream",
     "text": [
      "enter your number14\n",
      "its a multiple of 7\n"
     ]
    }
   ],
   "source": [
    "num=int(input(\"enter your number\"))\n",
    "if num%7==0:\n",
    "      print(\"its a multiple of 7\")"
   ]
  },
  {
   "cell_type": "markdown",
   "id": "2f7c8ac7",
   "metadata": {
    "id": "2f7c8ac7"
   },
   "source": [
    "### 24. Write a code to print the maximum of two numbers (use if-else). Take input from the user."
   ]
  },
  {
   "cell_type": "code",
   "execution_count": 52,
   "id": "010f5619",
   "metadata": {
    "id": "010f5619",
    "outputId": "28c782fa-e42c-4bbb-d3b6-0f94ff30d99c"
   },
   "outputs": [
    {
     "name": "stdout",
     "output_type": "stream",
     "text": [
      "enter the first num10\n",
      "enter the second num20\n",
      "num2 is greater\n"
     ]
    }
   ],
   "source": [
    "num1=int(input(\"enter the first num\"))\n",
    "num2=int(input(\"enter the second num\"))\n",
    "if num1>num2:\n",
    "    print(\"num1 is greater\")\n",
    "else:\n",
    "    print(\"num2 is greater\")"
   ]
  },
  {
   "cell_type": "markdown",
   "id": "b726a902",
   "metadata": {
    "id": "b726a902"
   },
   "source": [
    "### 25. Write a program to check whether a number is positive, negative or zero (use if-elif). Take input from the user"
   ]
  },
  {
   "cell_type": "code",
   "execution_count": 53,
   "id": "92afd322",
   "metadata": {
    "id": "92afd322",
    "outputId": "f173ca56-8b7d-464d-c96c-9d1a5fff671a"
   },
   "outputs": [
    {
     "name": "stdout",
     "output_type": "stream",
     "text": [
      "enter a number0\n",
      "its a zero\n"
     ]
    }
   ],
   "source": [
    "num1=int(input(\"enter a number\"))\n",
    "if num1==0:\n",
    "    print('its a zero')\n",
    "elif num1<0:\n",
    "    print(\"its negative number\")\n",
    "else:\n",
    "    print('its positive number')"
   ]
  },
  {
   "cell_type": "markdown",
   "id": "d0b27717",
   "metadata": {
    "id": "d0b27717"
   },
   "source": [
    "### 26. Write a program for generating a fibonacci series starting with 0 and 1 for the next 10 values using a while loop."
   ]
  },
  {
   "cell_type": "code",
   "execution_count": 54,
   "id": "a1a64f37",
   "metadata": {
    "id": "a1a64f37",
    "outputId": "57cd0a2f-723c-44c4-c010-cd36b61b8c9c"
   },
   "outputs": [
    {
     "name": "stdout",
     "output_type": "stream",
     "text": [
      "The fibonnaci series is: [0, 1, 1, 2, 3, 5, 8, 13, 21, 34, 55, 89]\n"
     ]
    }
   ],
   "source": [
    "a=0\n",
    "b=1\n",
    "fibo=[a,b]\n",
    "i=1\n",
    "while i<11:\n",
    "    c=a+b\n",
    "    a=b\n",
    "    b=c\n",
    "    i+=1\n",
    "    fibo.append(b)\n",
    "print(\"The fibonnaci series is:\",fibo)  "
   ]
  },
  {
   "cell_type": "markdown",
   "id": "2021d08f",
   "metadata": {
    "id": "2021d08f"
   },
   "source": [
    "### 27. Write a code to find factorial of a number (take the input from user)."
   ]
  },
  {
   "cell_type": "code",
   "execution_count": 55,
   "id": "301fe710",
   "metadata": {
    "id": "301fe710",
    "outputId": "ed6afe72-9998-44a8-95e0-f52829017f07"
   },
   "outputs": [
    {
     "name": "stdout",
     "output_type": "stream",
     "text": [
      "enter a number: 6\n",
      "720\n"
     ]
    }
   ],
   "source": [
    "num=int(input(\"enter a number: \"))\n",
    "fact=1\n",
    "if num <0:\n",
    "    print('sorry,factorial does not exist for neagative numbers')\n",
    "elif num==0:\n",
    "    print('the factorial of 0 is 1')\n",
    "else:\n",
    "    for i in range(1,num+1):\n",
    "        fact=fact*i\n",
    "print(fact)"
   ]
  },
  {
   "cell_type": "markdown",
   "id": "02234b69",
   "metadata": {
    "id": "02234b69"
   },
   "source": [
    "### 28. Write a program to check whether a number is prime or not (take the input from user)"
   ]
  },
  {
   "cell_type": "code",
   "execution_count": 56,
   "id": "ec6a1ca3",
   "metadata": {
    "id": "ec6a1ca3",
    "outputId": "d29eeec1-5ff1-40b5-c0f1-3b6d723d9504"
   },
   "outputs": [
    {
     "name": "stdout",
     "output_type": "stream",
     "text": [
      "Enter any number: 88\n",
      "88 is not a prime number\n"
     ]
    }
   ],
   "source": [
    "number = int(input(\"Enter any number: \"))\n",
    "if number > 1:\n",
    "    for i in range(2, number):\n",
    "        if (number % i) == 0:\n",
    "            print(number, \"is not a prime number\")\n",
    "            break\n",
    "    else:\n",
    "        print(number, \"is a prime number\")\n",
    "else:\n",
    "    print(number, \"is not a prime number\")"
   ]
  },
  {
   "cell_type": "markdown",
   "id": "0be87322",
   "metadata": {
    "id": "0be87322"
   },
   "source": [
    "### 29. Use list comprehension to obtain the square of first 10 natural numbers."
   ]
  },
  {
   "cell_type": "code",
   "execution_count": 57,
   "id": "34a60100",
   "metadata": {
    "id": "34a60100",
    "outputId": "47b0c241-6e0c-400a-f705-de939b16fab9"
   },
   "outputs": [
    {
     "name": "stdout",
     "output_type": "stream",
     "text": [
      "[1, 4, 9, 16, 25, 36, 49, 64, 81, 100]\n"
     ]
    }
   ],
   "source": [
    "my_list= [x**2 for x in range(1,11)]\n",
    "print(my_list)"
   ]
  },
  {
   "cell_type": "markdown",
   "id": "53ebb86a",
   "metadata": {
    "id": "53ebb86a"
   },
   "source": [
    "### 30. Use list comprehension to find the used vowels in a given sentence.\n",
    "\n",
    "Use the sentence below:\n",
    "\n",
    "sentence = 'Data Analytics at Great Learning'"
   ]
  },
  {
   "cell_type": "code",
   "execution_count": 58,
   "id": "45a0b9b6",
   "metadata": {
    "id": "45a0b9b6",
    "outputId": "9b0d4359-1563-4369-8d9e-4e0d6eddab13"
   },
   "outputs": [
    {
     "name": "stdout",
     "output_type": "stream",
     "text": [
      "{'A', 'e', 'i', 'a'}\n"
     ]
    }
   ],
   "source": [
    "s = \"Data Analytics at Great Learning\"\n",
    "vowels = [x for x in s if x in ['a','A','e','E','i','I','o','O','u','U']]\n",
    "print(set(vowels))"
   ]
  },
  {
   "cell_type": "markdown",
   "id": "7086c9fe",
   "metadata": {
    "id": "7086c9fe"
   },
   "source": [
    "### 31. Use list comprehension to print numbers divisible by 2 and 3 in between 1 and 100."
   ]
  },
  {
   "cell_type": "code",
   "execution_count": 59,
   "id": "4996349b",
   "metadata": {
    "id": "4996349b",
    "outputId": "11673d4c-4212-4756-c27b-b149a94a029f"
   },
   "outputs": [
    {
     "name": "stdout",
     "output_type": "stream",
     "text": [
      "[0, 6, 12, 18, 24, 30, 36, 42, 48, 54, 60, 66, 72, 78, 84, 90, 96]\n"
     ]
    }
   ],
   "source": [
    "divisible_by_2_and_3 = [y for y in range(100) if y%2==0 if y%3==0]\n",
    "print(divisible_by_2_and_3)"
   ]
  },
  {
   "cell_type": "markdown",
   "id": "82f7b3f8",
   "metadata": {
    "id": "82f7b3f8"
   },
   "source": [
    "### 32. Use list comprehension to extract numbers from a string"
   ]
  },
  {
   "cell_type": "markdown",
   "id": "99e8bcce",
   "metadata": {
    "id": "99e8bcce"
   },
   "source": [
    "**Use the string below\"**\n",
    "\n",
    "string = \"hello 6645 World\""
   ]
  },
  {
   "cell_type": "code",
   "execution_count": 60,
   "id": "6d111f54",
   "metadata": {
    "id": "6d111f54",
    "outputId": "cb900840-119a-4877-ea14-94f3a494fea9"
   },
   "outputs": [
    {
     "name": "stdout",
     "output_type": "stream",
     "text": [
      "['6', '6', '4', '5']\n"
     ]
    }
   ],
   "source": [
    "string = \"hello 6645 World\"\n",
    "numbers = [x for x in string if x.isdigit()]\n",
    "print(numbers)"
   ]
  },
  {
   "cell_type": "markdown",
   "id": "0aca8933",
   "metadata": {
    "id": "0aca8933"
   },
   "source": [
    "------\n",
    "### Happy Learning :)\n",
    "------"
   ]
  }
 ],
 "metadata": {
  "colab": {
   "provenance": []
  },
  "kernelspec": {
   "display_name": "Python 3 (ipykernel)",
   "language": "python",
   "name": "python3"
  },
  "language_info": {
   "codemirror_mode": {
    "name": "ipython",
    "version": 3
   },
   "file_extension": ".py",
   "mimetype": "text/x-python",
   "name": "python",
   "nbconvert_exporter": "python",
   "pygments_lexer": "ipython3",
   "version": "3.9.7"
  }
 },
 "nbformat": 4,
 "nbformat_minor": 5
}
